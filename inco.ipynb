{
 "cells": [
  {
   "cell_type": "code",
   "execution_count": 94,
   "metadata": {},
   "outputs": [],
   "source": [
    "import numpy as np  \n",
    "import pandas as pd \n",
    "import json\n",
    "from datetime import date\n",
    "from tqdm.auto import tqdm     #used for creating progress meters or bars\n",
    "tqdm.pandas()"
   ]
  },
  {
   "cell_type": "code",
   "execution_count": 95,
   "metadata": {},
   "outputs": [],
   "source": [
    "from fhir.resources.patient import Patient\n",
    "from fhir.resources.condition import Condition\n",
    "from fhir.resources.medication import Medication\n",
    "from fhir.resources.claim import Claim\n"
   ]
  },
  {
   "cell_type": "code",
   "execution_count": 96,
   "metadata": {},
   "outputs": [
    {
     "name": "stdout",
     "output_type": "stream",
     "text": [
      "1181\n"
     ]
    }
   ],
   "source": [
    "import os\n",
    "filesList = os.listdir('/Project inco/fhir/')\n",
    "print(len(filesList))"
   ]
  },
  {
   "cell_type": "code",
   "execution_count": 97,
   "metadata": {},
   "outputs": [],
   "source": [
    "PATIENT = pd.DataFrame(columns=['PatientUID', 'NameFamily', 'NameGiven', 'DoB', 'Gender'])\n",
    "CONDITION = pd.DataFrame(columns=['ConditionText', 'ConditionOnsetDates', 'PatientUID'])\n",
    "MEDICATION = pd.DataFrame(columns=['MedicationText', 'MedicationDates', 'PatientUID'])\n",
    "CLAIM = pd.DataFrame(columns=['ClaimProvider', 'ClaimInsurance', 'ClaimDate', 'ClaimType','ClaimItem', \n",
    "                              'ClaimUSD', 'PatientUID'])"
   ]
  },
  {
   "cell_type": "code",
   "execution_count": 98,
   "metadata": {},
   "outputs": [
    {
     "name": "stdout",
     "output_type": "stream",
     "text": [
      "243\n",
      "16\n"
     ]
    },
    {
     "data": {
      "text/plain": [
       "{fhir.resources.allergyintolerance.AllergyIntolerance,\n",
       " fhir.resources.careplan.CarePlan,\n",
       " fhir.resources.careteam.CareTeam,\n",
       " fhir.resources.claim.Claim,\n",
       " fhir.resources.condition.Condition,\n",
       " fhir.resources.diagnosticreport.DiagnosticReport,\n",
       " fhir.resources.encounter.Encounter,\n",
       " fhir.resources.explanationofbenefit.ExplanationOfBenefit,\n",
       " fhir.resources.imagingstudy.ImagingStudy,\n",
       " fhir.resources.immunization.Immunization,\n",
       " fhir.resources.medicationrequest.MedicationRequest,\n",
       " fhir.resources.observation.Observation,\n",
       " fhir.resources.organization.Organization,\n",
       " fhir.resources.patient.Patient,\n",
       " fhir.resources.practitioner.Practitioner,\n",
       " fhir.resources.procedure.Procedure}"
      ]
     },
     "execution_count": 98,
     "metadata": {},
     "output_type": "execute_result"
    }
   ],
   "source": [
    "#ONE bundle = ONE patient\n",
    "\n",
    "f = open('/Project inco/fhir/'+filesList[50],)\n",
    "json_obj = json.load(f)\n",
    "\n",
    "oneBundle = Bundle.parse_obj(json_obj)\n",
    "\n",
    "# Resources\n",
    "\n",
    "resources = []\n",
    "if oneBundle.entry is not None:\n",
    "    for entry in oneBundle.entry:\n",
    "        resources.append(entry.resource)\n",
    "\n",
    "\n",
    "oneResources = []\n",
    "for j in range(len(resources)):\n",
    "    oneResources.append(type(resources[j]))\n",
    "    \n",
    "print(len(oneResources))\n",
    "\n",
    "uniqResources = set(oneResources)\n",
    "print(len(uniqResources))\n",
    "uniqResources"
   ]
  },
  {
   "cell_type": "code",
   "execution_count": 100,
   "metadata": {},
   "outputs": [
    {
     "name": "stdout",
     "output_type": "stream",
     "text": [
      "<class 'fhir.resources.patient.Patient'>\n"
     ]
    }
   ],
   "source": [
    "print(type(resources[0]))"
   ]
  },
  {
   "cell_type": "code",
   "execution_count": 101,
   "metadata": {},
   "outputs": [
    {
     "name": "stdout",
     "output_type": "stream",
     "text": [
      "207ab280-2d58-408e-8301-6444e23c4a8f\n",
      "Maya972\n",
      "Andrea7\n",
      "2008-03-02\n",
      "female\n"
     ]
    }
   ],
   "source": [
    "onePatient = Patient.parse_obj(resources[0])\n",
    "onePatient.name[0]\n",
    "\n",
    "# Patient demographics\n",
    "onePatientID = onePatient.id\n",
    "\n",
    "print(onePatientID)\n",
    "print(onePatient.name[0].family)\n",
    "print(onePatient.name[0].given[0])\n",
    "print(onePatient.birthDate)\n",
    "print(onePatient.gender)"
   ]
  },
  {
   "cell_type": "code",
   "execution_count": 102,
   "metadata": {},
   "outputs": [
    {
     "name": "stdout",
     "output_type": "stream",
     "text": [
      "(7, 3)\n"
     ]
    },
    {
     "data": {
      "text/html": [
       "<div>\n",
       "<style scoped>\n",
       "    .dataframe tbody tr th:only-of-type {\n",
       "        vertical-align: middle;\n",
       "    }\n",
       "\n",
       "    .dataframe tbody tr th {\n",
       "        vertical-align: top;\n",
       "    }\n",
       "\n",
       "    .dataframe thead th {\n",
       "        text-align: right;\n",
       "    }\n",
       "</style>\n",
       "<table border=\"1\" class=\"dataframe\">\n",
       "  <thead>\n",
       "    <tr style=\"text-align: right;\">\n",
       "      <th></th>\n",
       "      <th>ConditionText</th>\n",
       "      <th>ConditionOnsetDates</th>\n",
       "      <th>PatientUID</th>\n",
       "    </tr>\n",
       "  </thead>\n",
       "  <tbody>\n",
       "    <tr>\n",
       "      <th>6</th>\n",
       "      <td>Chronic sinusitis (disorder)</td>\n",
       "      <td>2018-05-05</td>\n",
       "      <td>207ab280-2d58-408e-8301-6444e23c4a8f</td>\n",
       "    </tr>\n",
       "  </tbody>\n",
       "</table>\n",
       "</div>"
      ],
      "text/plain": [
       "                  ConditionText ConditionOnsetDates  \\\n",
       "6  Chronic sinusitis (disorder)          2018-05-05   \n",
       "\n",
       "                             PatientUID  \n",
       "6  207ab280-2d58-408e-8301-6444e23c4a8f  "
      ]
     },
     "execution_count": 102,
     "metadata": {},
     "output_type": "execute_result"
    }
   ],
   "source": [
    "# Find Condition resources \n",
    "\n",
    "resCondition = []\n",
    "for j in range(len(resources)):\n",
    "    if resources[j].__class__.__name__ == 'Condition':\n",
    "        resCondition.append(resources[j])\n",
    "        \n",
    "conditions = []\n",
    "conditionOnsetDates = []\n",
    "for j in range(len(resCondition)):\n",
    "    oneCondition = Condition.parse_obj(resCondition[j])\n",
    "    conditions.append(oneCondition.code.text)\n",
    "    conditionOnsetDates.append(str(oneCondition.onsetDateTime.date()))  \n",
    "    \n",
    "onePatConditions = pd.DataFrame()\n",
    "\n",
    "onePatConditions['ConditionText'] = conditions\n",
    "onePatConditions['ConditionOnsetDates'] = conditionOnsetDates\n",
    "onePatConditions['PatientUID'] = onePatientID\n",
    "\n",
    "print(onePatConditions.shape)\n",
    "onePatConditions.sample(1)"
   ]
  },
  {
   "cell_type": "code",
   "execution_count": 104,
   "metadata": {},
   "outputs": [
    {
     "name": "stdout",
     "output_type": "stream",
     "text": [
      "(67, 7)\n"
     ]
    },
    {
     "data": {
      "text/html": [
       "<div>\n",
       "<style scoped>\n",
       "    .dataframe tbody tr th:only-of-type {\n",
       "        vertical-align: middle;\n",
       "    }\n",
       "\n",
       "    .dataframe tbody tr th {\n",
       "        vertical-align: top;\n",
       "    }\n",
       "\n",
       "    .dataframe thead th {\n",
       "        text-align: right;\n",
       "    }\n",
       "</style>\n",
       "<table border=\"1\" class=\"dataframe\">\n",
       "  <thead>\n",
       "    <tr style=\"text-align: right;\">\n",
       "      <th></th>\n",
       "      <th>ClaimProvider</th>\n",
       "      <th>ClaimInsurance</th>\n",
       "      <th>ClaimDate</th>\n",
       "      <th>ClaimType</th>\n",
       "      <th>ClaimItem</th>\n",
       "      <th>ClaimUSD</th>\n",
       "      <th>PatientUID</th>\n",
       "    </tr>\n",
       "  </thead>\n",
       "  <tbody>\n",
       "    <tr>\n",
       "      <th>8</th>\n",
       "      <td>PCP9535</td>\n",
       "      <td>Aetna</td>\n",
       "      <td>2010-08-08</td>\n",
       "      <td>institutional</td>\n",
       "      <td>Pneumococcal conjugate PCV 13</td>\n",
       "      <td>140.52</td>\n",
       "      <td>207ab280-2d58-408e-8301-6444e23c4a8f</td>\n",
       "    </tr>\n",
       "  </tbody>\n",
       "</table>\n",
       "</div>"
      ],
      "text/plain": [
       "  ClaimProvider ClaimInsurance   ClaimDate      ClaimType  \\\n",
       "8       PCP9535          Aetna  2010-08-08  institutional   \n",
       "\n",
       "                       ClaimItem ClaimUSD  \\\n",
       "8  Pneumococcal conjugate PCV 13   140.52   \n",
       "\n",
       "                             PatientUID  \n",
       "8  207ab280-2d58-408e-8301-6444e23c4a8f  "
      ]
     },
     "execution_count": 104,
     "metadata": {},
     "output_type": "execute_result"
    }
   ],
   "source": [
    "# Find Claim resources \n",
    "\n",
    "resClaims = []\n",
    "for j in range(len(resources)):\n",
    "    if resources[j].__class__.__name__ == 'Claim':\n",
    "        resClaims.append(resources[j])\n",
    "        \n",
    "claimProvider = []\n",
    "claimInsurance = []\n",
    "claimDate = []\n",
    "claimType = []\n",
    "claimItem = []\n",
    "claimUSD = []\n",
    "\n",
    "for j in range(len(resClaims)):\n",
    "    oneClaim = Claim.parse_obj(resClaims[j])\n",
    "    # Inner loop over claim items:\n",
    "    for i in range(len(resClaims[j].item)):\n",
    "        claimProvider.append(oneClaim.provider.display)\n",
    "        claimInsurance.append(oneClaim.insurance[0].coverage.display)\n",
    "        claimDate.append(str(oneClaim.billablePeriod.start.date()))\n",
    "        claimType.append(oneClaim.type.coding[0].code)\n",
    "        claimItem.append(resClaims[j].item[i].productOrService.text)\n",
    "        if resClaims[j].item[i].net:\n",
    "            claimUSD.append(str(resClaims[j].item[i].net.value))\n",
    "        else:\n",
    "            claimUSD.append('None')\n",
    "    \n",
    "onePatClaims = pd.DataFrame()\n",
    "\n",
    "onePatClaims['ClaimProvider'] = claimProvider\n",
    "onePatClaims['ClaimInsurance'] = claimInsurance\n",
    "onePatClaims['ClaimDate'] = claimDate\n",
    "onePatClaims['ClaimType'] = claimType\n",
    "onePatClaims['ClaimItem'] = claimItem\n",
    "onePatClaims['ClaimUSD'] = claimUSD\n",
    "onePatClaims['PatientUID'] = onePatientID\n",
    "\n",
    "print(onePatClaims.shape)\n",
    "onePatClaims.sample(1)"
   ]
  },
  {
   "cell_type": "code",
   "execution_count": 106,
   "metadata": {},
   "outputs": [
    {
     "name": "stdout",
     "output_type": "stream",
     "text": [
      "(6, 3)\n"
     ]
    },
    {
     "data": {
      "text/html": [
       "<div>\n",
       "<style scoped>\n",
       "    .dataframe tbody tr th:only-of-type {\n",
       "        vertical-align: middle;\n",
       "    }\n",
       "\n",
       "    .dataframe tbody tr th {\n",
       "        vertical-align: top;\n",
       "    }\n",
       "\n",
       "    .dataframe thead th {\n",
       "        text-align: right;\n",
       "    }\n",
       "</style>\n",
       "<table border=\"1\" class=\"dataframe\">\n",
       "  <thead>\n",
       "    <tr style=\"text-align: right;\">\n",
       "      <th></th>\n",
       "      <th>MedicationText</th>\n",
       "      <th>MedicationDates</th>\n",
       "      <th>PatientUID</th>\n",
       "    </tr>\n",
       "  </thead>\n",
       "  <tbody>\n",
       "    <tr>\n",
       "      <th>1</th>\n",
       "      <td>NDA020800 0.3 ML Epinephrine 1 MG/ML Auto-Inje...</td>\n",
       "      <td>2009-06-13</td>\n",
       "      <td>207ab280-2d58-408e-8301-6444e23c4a8f</td>\n",
       "    </tr>\n",
       "  </tbody>\n",
       "</table>\n",
       "</div>"
      ],
      "text/plain": [
       "                                      MedicationText MedicationDates  \\\n",
       "1  NDA020800 0.3 ML Epinephrine 1 MG/ML Auto-Inje...      2009-06-13   \n",
       "\n",
       "                             PatientUID  \n",
       "1  207ab280-2d58-408e-8301-6444e23c4a8f  "
      ]
     },
     "execution_count": 106,
     "metadata": {},
     "output_type": "execute_result"
    }
   ],
   "source": [
    "# Find MedicationRequest resources \n",
    "\n",
    "resMedicationRequest = []\n",
    "for j in range(len(resources)):\n",
    "    if resources[j].__class__.__name__ == 'MedicationRequest':\n",
    "        resMedicationRequest.append(resources[j])\n",
    "        \n",
    "meds = []\n",
    "medsDates = []\n",
    "for j in range(len(resMedicationRequest)):\n",
    "    oneMed = MedicationRequest.parse_obj(resMedicationRequest[j])\n",
    "    meds.append(oneMed.medicationCodeableConcept.text)\n",
    "    medsDates.append(str(oneMed.authoredOn.date()))  \n",
    "    \n",
    "onePatMeds = pd.DataFrame()\n",
    "\n",
    "onePatMeds['MedicationText'] = meds\n",
    "onePatMeds['MedicationDates'] = medsDates\n",
    "onePatMeds['PatientUID'] = onePatientID\n",
    "\n",
    "print(onePatMeds.shape)\n",
    "onePatMeds.sample(1)"
   ]
  },
  {
   "cell_type": "code",
   "execution_count": 108,
   "metadata": {},
   "outputs": [
    {
     "data": {
      "text/html": [
       "<div>\n",
       "<style scoped>\n",
       "    .dataframe tbody tr th:only-of-type {\n",
       "        vertical-align: middle;\n",
       "    }\n",
       "\n",
       "    .dataframe tbody tr th {\n",
       "        vertical-align: top;\n",
       "    }\n",
       "\n",
       "    .dataframe thead th {\n",
       "        text-align: right;\n",
       "    }\n",
       "</style>\n",
       "<table border=\"1\" class=\"dataframe\">\n",
       "  <thead>\n",
       "    <tr style=\"text-align: right;\">\n",
       "      <th></th>\n",
       "      <th>index</th>\n",
       "      <th>ClaimProvider</th>\n",
       "      <th>ClaimInsurance</th>\n",
       "      <th>ClaimDate</th>\n",
       "      <th>ClaimType</th>\n",
       "      <th>ClaimItem</th>\n",
       "      <th>ClaimUSD</th>\n",
       "      <th>PatientUID</th>\n",
       "    </tr>\n",
       "  </thead>\n",
       "  <tbody>\n",
       "    <tr>\n",
       "      <th>0</th>\n",
       "      <td>0</td>\n",
       "      <td>HALLMARK HEALTH SYSTEM</td>\n",
       "      <td>Aetna</td>\n",
       "      <td>2009-05-26</td>\n",
       "      <td>institutional</td>\n",
       "      <td>Encounter for problem</td>\n",
       "      <td>None</td>\n",
       "      <td>207ab280-2d58-408e-8301-6444e23c4a8f</td>\n",
       "    </tr>\n",
       "    <tr>\n",
       "      <th>1</th>\n",
       "      <td>1</td>\n",
       "      <td>HALLMARK HEALTH SYSTEM</td>\n",
       "      <td>Aetna</td>\n",
       "      <td>2009-06-13</td>\n",
       "      <td>pharmacy</td>\n",
       "      <td>Encounter for problem</td>\n",
       "      <td>None</td>\n",
       "      <td>207ab280-2d58-408e-8301-6444e23c4a8f</td>\n",
       "    </tr>\n",
       "    <tr>\n",
       "      <th>2</th>\n",
       "      <td>2</td>\n",
       "      <td>HALLMARK HEALTH SYSTEM</td>\n",
       "      <td>Aetna</td>\n",
       "      <td>2009-06-13</td>\n",
       "      <td>pharmacy</td>\n",
       "      <td>Encounter for problem</td>\n",
       "      <td>None</td>\n",
       "      <td>207ab280-2d58-408e-8301-6444e23c4a8f</td>\n",
       "    </tr>\n",
       "    <tr>\n",
       "      <th>3</th>\n",
       "      <td>3</td>\n",
       "      <td>HALLMARK HEALTH SYSTEM</td>\n",
       "      <td>Aetna</td>\n",
       "      <td>2009-06-13</td>\n",
       "      <td>institutional</td>\n",
       "      <td>Encounter for problem</td>\n",
       "      <td>None</td>\n",
       "      <td>207ab280-2d58-408e-8301-6444e23c4a8f</td>\n",
       "    </tr>\n",
       "    <tr>\n",
       "      <th>4</th>\n",
       "      <td>4</td>\n",
       "      <td>PCP9535</td>\n",
       "      <td>Aetna</td>\n",
       "      <td>2010-02-07</td>\n",
       "      <td>institutional</td>\n",
       "      <td>Well child visit (procedure)</td>\n",
       "      <td>None</td>\n",
       "      <td>207ab280-2d58-408e-8301-6444e23c4a8f</td>\n",
       "    </tr>\n",
       "    <tr>\n",
       "      <th>...</th>\n",
       "      <td>...</td>\n",
       "      <td>...</td>\n",
       "      <td>...</td>\n",
       "      <td>...</td>\n",
       "      <td>...</td>\n",
       "      <td>...</td>\n",
       "      <td>...</td>\n",
       "      <td>...</td>\n",
       "    </tr>\n",
       "    <tr>\n",
       "      <th>129</th>\n",
       "      <td>129</td>\n",
       "      <td>PCP9535</td>\n",
       "      <td>Aetna</td>\n",
       "      <td>2019-03-17</td>\n",
       "      <td>institutional</td>\n",
       "      <td>Tdap</td>\n",
       "      <td>140.52</td>\n",
       "      <td>207ab280-2d58-408e-8301-6444e23c4a8f</td>\n",
       "    </tr>\n",
       "    <tr>\n",
       "      <th>130</th>\n",
       "      <td>130</td>\n",
       "      <td>PCP9535</td>\n",
       "      <td>Aetna</td>\n",
       "      <td>2019-03-17</td>\n",
       "      <td>institutional</td>\n",
       "      <td>Influenza, seasonal, injectable, preservative ...</td>\n",
       "      <td>140.52</td>\n",
       "      <td>207ab280-2d58-408e-8301-6444e23c4a8f</td>\n",
       "    </tr>\n",
       "    <tr>\n",
       "      <th>131</th>\n",
       "      <td>131</td>\n",
       "      <td>PCP9535</td>\n",
       "      <td>Aetna</td>\n",
       "      <td>2019-03-17</td>\n",
       "      <td>institutional</td>\n",
       "      <td>HPV, quadrivalent</td>\n",
       "      <td>140.52</td>\n",
       "      <td>207ab280-2d58-408e-8301-6444e23c4a8f</td>\n",
       "    </tr>\n",
       "    <tr>\n",
       "      <th>132</th>\n",
       "      <td>132</td>\n",
       "      <td>PCP9535</td>\n",
       "      <td>Aetna</td>\n",
       "      <td>2019-03-17</td>\n",
       "      <td>institutional</td>\n",
       "      <td>meningococcal MCV4P</td>\n",
       "      <td>140.52</td>\n",
       "      <td>207ab280-2d58-408e-8301-6444e23c4a8f</td>\n",
       "    </tr>\n",
       "    <tr>\n",
       "      <th>133</th>\n",
       "      <td>133</td>\n",
       "      <td>PCP9535</td>\n",
       "      <td>Aetna</td>\n",
       "      <td>2019-03-17</td>\n",
       "      <td>institutional</td>\n",
       "      <td>Medication Reconciliation (procedure)</td>\n",
       "      <td>490.66</td>\n",
       "      <td>207ab280-2d58-408e-8301-6444e23c4a8f</td>\n",
       "    </tr>\n",
       "  </tbody>\n",
       "</table>\n",
       "<p>134 rows × 8 columns</p>\n",
       "</div>"
      ],
      "text/plain": [
       "     index           ClaimProvider ClaimInsurance   ClaimDate      ClaimType  \\\n",
       "0        0  HALLMARK HEALTH SYSTEM          Aetna  2009-05-26  institutional   \n",
       "1        1  HALLMARK HEALTH SYSTEM          Aetna  2009-06-13       pharmacy   \n",
       "2        2  HALLMARK HEALTH SYSTEM          Aetna  2009-06-13       pharmacy   \n",
       "3        3  HALLMARK HEALTH SYSTEM          Aetna  2009-06-13  institutional   \n",
       "4        4                 PCP9535          Aetna  2010-02-07  institutional   \n",
       "..     ...                     ...            ...         ...            ...   \n",
       "129    129                 PCP9535          Aetna  2019-03-17  institutional   \n",
       "130    130                 PCP9535          Aetna  2019-03-17  institutional   \n",
       "131    131                 PCP9535          Aetna  2019-03-17  institutional   \n",
       "132    132                 PCP9535          Aetna  2019-03-17  institutional   \n",
       "133    133                 PCP9535          Aetna  2019-03-17  institutional   \n",
       "\n",
       "                                             ClaimItem ClaimUSD  \\\n",
       "0                                Encounter for problem     None   \n",
       "1                                Encounter for problem     None   \n",
       "2                                Encounter for problem     None   \n",
       "3                                Encounter for problem     None   \n",
       "4                         Well child visit (procedure)     None   \n",
       "..                                                 ...      ...   \n",
       "129                                               Tdap   140.52   \n",
       "130  Influenza, seasonal, injectable, preservative ...   140.52   \n",
       "131                                  HPV, quadrivalent   140.52   \n",
       "132                                meningococcal MCV4P   140.52   \n",
       "133              Medication Reconciliation (procedure)   490.66   \n",
       "\n",
       "                               PatientUID  \n",
       "0    207ab280-2d58-408e-8301-6444e23c4a8f  \n",
       "1    207ab280-2d58-408e-8301-6444e23c4a8f  \n",
       "2    207ab280-2d58-408e-8301-6444e23c4a8f  \n",
       "3    207ab280-2d58-408e-8301-6444e23c4a8f  \n",
       "4    207ab280-2d58-408e-8301-6444e23c4a8f  \n",
       "..                                    ...  \n",
       "129  207ab280-2d58-408e-8301-6444e23c4a8f  \n",
       "130  207ab280-2d58-408e-8301-6444e23c4a8f  \n",
       "131  207ab280-2d58-408e-8301-6444e23c4a8f  \n",
       "132  207ab280-2d58-408e-8301-6444e23c4a8f  \n",
       "133  207ab280-2d58-408e-8301-6444e23c4a8f  \n",
       "\n",
       "[134 rows x 8 columns]"
      ]
     },
     "execution_count": 108,
     "metadata": {},
     "output_type": "execute_result"
    }
   ],
   "source": [
    "    # Find Claim resources ########################################\n",
    "    resClaims = []\n",
    "    for j in range(len(resources)):\n",
    "        if resources[j].__class__.__name__ == 'Claim':\n",
    "            resClaims.append(resources[j])\n",
    "\n",
    "    claimProvider = []\n",
    "    claimInsurance = []\n",
    "    claimDate = []\n",
    "    claimType = []\n",
    "    claimItem = []\n",
    "    claimUSD = []\n",
    "\n",
    "    for j in range(len(resClaims)):\n",
    "        oneClaim = Claim.parse_obj(resClaims[j])\n",
    "        # Inner loop over claim items:\n",
    "        for i in range(len(resClaims[j].item)):\n",
    "            claimProvider.append(oneClaim.provider.display)\n",
    "            claimInsurance.append(oneClaim.insurance[0].coverage.display)\n",
    "            claimDate.append(str(oneClaim.billablePeriod.start.date()))\n",
    "            claimType.append(oneClaim.type.coding[0].code)\n",
    "            claimItem.append(resClaims[j].item[i].productOrService.text)\n",
    "            if resClaims[j].item[i].net:\n",
    "                claimUSD.append(str(resClaims[j].item[i].net.value))\n",
    "            else:\n",
    "                claimUSD.append('None')\n",
    "\n",
    "    onePatClaims = pd.DataFrame()\n",
    "\n",
    "    onePatClaims['ClaimProvider'] = claimProvider\n",
    "    onePatClaims['ClaimInsurance'] = claimInsurance\n",
    "    onePatClaims['ClaimDate'] = claimDate\n",
    "    onePatClaims['ClaimType'] = claimType\n",
    "    onePatClaims['ClaimItem'] = claimItem\n",
    "    onePatClaims['ClaimUSD'] = claimUSD\n",
    "    onePatClaims['PatientUID'] = onePatientID\n",
    "    \n",
    "    CLAIM = pd.concat([CLAIM, onePatClaims], ignore_index = True, axis=0)\n",
    "    CLAIM.reset_index()"
   ]
  },
  {
   "cell_type": "code",
   "execution_count": 120,
   "metadata": {},
   "outputs": [
    {
     "data": {
      "application/vnd.jupyter.widget-view+json": {
       "model_id": "df3659fb5ef0412b840020ad5a1eb2bd",
       "version_major": 2,
       "version_minor": 0
      },
      "text/plain": [
       "  0%|          | 0/1181 [00:00<?, ?it/s]"
      ]
     },
     "metadata": {},
     "output_type": "display_data"
    },
    {
     "ename": "UnicodeDecodeError",
     "evalue": "'charmap' codec can't decode byte 0x81 in position 1868: character maps to <undefined>",
     "output_type": "error",
     "traceback": [
      "\u001b[1;31m---------------------------------------------------------------------------\u001b[0m",
      "\u001b[1;31mUnicodeDecodeError\u001b[0m                        Traceback (most recent call last)",
      "\u001b[1;32md:\\Project inco\\inco.ipynb Cell 12\u001b[0m in \u001b[0;36m<cell line: 1>\u001b[1;34m()\u001b[0m\n\u001b[0;32m      <a href='vscode-notebook-cell:/d%3A/Project%20inco/inco.ipynb#X22sZmlsZQ%3D%3D?line=0'>1</a>\u001b[0m \u001b[39mfor\u001b[39;00m fileNum \u001b[39min\u001b[39;00m tqdm(\u001b[39mrange\u001b[39m(\u001b[39mlen\u001b[39m(filesList))):\n\u001b[0;32m      <a href='vscode-notebook-cell:/d%3A/Project%20inco/inco.ipynb#X22sZmlsZQ%3D%3D?line=1'>2</a>\u001b[0m     \u001b[39m#for fileNum in range(100):\u001b[39;00m\n\u001b[0;32m      <a href='vscode-notebook-cell:/d%3A/Project%20inco/inco.ipynb#X22sZmlsZQ%3D%3D?line=2'>3</a>\u001b[0m     f \u001b[39m=\u001b[39m \u001b[39mopen\u001b[39m(\u001b[39m'\u001b[39m\u001b[39m/Project inco/fhir/\u001b[39m\u001b[39m'\u001b[39m\u001b[39m+\u001b[39mfilesList[fileNum],)\n\u001b[1;32m----> <a href='vscode-notebook-cell:/d%3A/Project%20inco/inco.ipynb#X22sZmlsZQ%3D%3D?line=3'>4</a>\u001b[0m     json_obj \u001b[39m=\u001b[39m json\u001b[39m.\u001b[39;49mload(f)\n\u001b[0;32m      <a href='vscode-notebook-cell:/d%3A/Project%20inco/inco.ipynb#X22sZmlsZQ%3D%3D?line=5'>6</a>\u001b[0m     oneBundle \u001b[39m=\u001b[39m Bundle\u001b[39m.\u001b[39mparse_obj(json_obj)\n\u001b[0;32m      <a href='vscode-notebook-cell:/d%3A/Project%20inco/inco.ipynb#X22sZmlsZQ%3D%3D?line=7'>8</a>\u001b[0m     \u001b[39m# Resources \u001b[39;00m\n",
      "File \u001b[1;32mc:\\Users\\40ndg\\anaconda3\\envs\\myenv\\lib\\json\\__init__.py:293\u001b[0m, in \u001b[0;36mload\u001b[1;34m(fp, cls, object_hook, parse_float, parse_int, parse_constant, object_pairs_hook, **kw)\u001b[0m\n\u001b[0;32m    274\u001b[0m \u001b[39mdef\u001b[39;00m \u001b[39mload\u001b[39m(fp, \u001b[39m*\u001b[39m, \u001b[39mcls\u001b[39m\u001b[39m=\u001b[39m\u001b[39mNone\u001b[39;00m, object_hook\u001b[39m=\u001b[39m\u001b[39mNone\u001b[39;00m, parse_float\u001b[39m=\u001b[39m\u001b[39mNone\u001b[39;00m,\n\u001b[0;32m    275\u001b[0m         parse_int\u001b[39m=\u001b[39m\u001b[39mNone\u001b[39;00m, parse_constant\u001b[39m=\u001b[39m\u001b[39mNone\u001b[39;00m, object_pairs_hook\u001b[39m=\u001b[39m\u001b[39mNone\u001b[39;00m, \u001b[39m*\u001b[39m\u001b[39m*\u001b[39mkw):\n\u001b[0;32m    276\u001b[0m     \u001b[39m\"\"\"Deserialize ``fp`` (a ``.read()``-supporting file-like object containing\u001b[39;00m\n\u001b[0;32m    277\u001b[0m \u001b[39m    a JSON document) to a Python object.\u001b[39;00m\n\u001b[0;32m    278\u001b[0m \n\u001b[1;32m   (...)\u001b[0m\n\u001b[0;32m    291\u001b[0m \u001b[39m    kwarg; otherwise ``JSONDecoder`` is used.\u001b[39;00m\n\u001b[0;32m    292\u001b[0m \u001b[39m    \"\"\"\u001b[39;00m\n\u001b[1;32m--> 293\u001b[0m     \u001b[39mreturn\u001b[39;00m loads(fp\u001b[39m.\u001b[39;49mread(),\n\u001b[0;32m    294\u001b[0m         \u001b[39mcls\u001b[39m\u001b[39m=\u001b[39m\u001b[39mcls\u001b[39m, object_hook\u001b[39m=\u001b[39mobject_hook,\n\u001b[0;32m    295\u001b[0m         parse_float\u001b[39m=\u001b[39mparse_float, parse_int\u001b[39m=\u001b[39mparse_int,\n\u001b[0;32m    296\u001b[0m         parse_constant\u001b[39m=\u001b[39mparse_constant, object_pairs_hook\u001b[39m=\u001b[39mobject_pairs_hook, \u001b[39m*\u001b[39m\u001b[39m*\u001b[39mkw)\n",
      "File \u001b[1;32mc:\\Users\\40ndg\\anaconda3\\envs\\myenv\\lib\\encodings\\cp1252.py:23\u001b[0m, in \u001b[0;36mIncrementalDecoder.decode\u001b[1;34m(self, input, final)\u001b[0m\n\u001b[0;32m     22\u001b[0m \u001b[39mdef\u001b[39;00m \u001b[39mdecode\u001b[39m(\u001b[39mself\u001b[39m, \u001b[39minput\u001b[39m, final\u001b[39m=\u001b[39m\u001b[39mFalse\u001b[39;00m):\n\u001b[1;32m---> 23\u001b[0m     \u001b[39mreturn\u001b[39;00m codecs\u001b[39m.\u001b[39;49mcharmap_decode(\u001b[39minput\u001b[39;49m,\u001b[39mself\u001b[39;49m\u001b[39m.\u001b[39;49merrors,decoding_table)[\u001b[39m0\u001b[39m]\n",
      "\u001b[1;31mUnicodeDecodeError\u001b[0m: 'charmap' codec can't decode byte 0x81 in position 1868: character maps to <undefined>"
     ]
    }
   ],
   "source": [
    "for fileNum in tqdm(range(len(filesList))):\n",
    "    #for fileNum in range(100):\n",
    "    f = open('/Project inco/fhir/'+filesList[fileNum],)\n",
    "    json_obj = json.load(f)\n",
    "\n",
    "    oneBundle = Bundle.parse_obj(json_obj)\n",
    "\n",
    "    # Resources \n",
    "    resources = []\n",
    "    if oneBundle.entry is not None:\n",
    "        for entry in oneBundle.entry:\n",
    "            resources.append(entry.resource)\n",
    "    \n",
    "    onePatient = Patient.parse_obj(resources[0])\n",
    "\n",
    "    # Patient demographics ########################################\n",
    "    onePatientID = onePatient.id\n",
    "\n",
    "    PATIENT.loc[len(PATIENT.index)] = [onePatientID, onePatient.name[0].family, \n",
    "                                       onePatient.name[0].given[0], onePatient.birthDate, onePatient.gender] "
   ]
  }
 ],
 "metadata": {
  "kernelspec": {
   "display_name": "myenv",
   "language": "python",
   "name": "python3"
  },
  "language_info": {
   "codemirror_mode": {
    "name": "ipython",
    "version": 3
   },
   "file_extension": ".py",
   "mimetype": "text/x-python",
   "name": "python",
   "nbconvert_exporter": "python",
   "pygments_lexer": "ipython3",
   "version": "3.9.13"
  },
  "orig_nbformat": 4,
  "vscode": {
   "interpreter": {
    "hash": "3861cdc5517ba17a935df35cd8f90b8c08bc270df3a493ec0f5a4d44a30cb4ad"
   }
  }
 },
 "nbformat": 4,
 "nbformat_minor": 2
}
